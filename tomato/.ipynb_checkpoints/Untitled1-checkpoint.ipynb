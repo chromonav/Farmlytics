{
 "cells": [
  {
   "cell_type": "code",
   "execution_count": 38,
   "metadata": {},
   "outputs": [
    {
     "name": "stdout",
     "output_type": "stream",
     "text": [
      "  Centre_Name  date  month  year  Centre_Name_cat\n",
      "0    SHILLONG    30     13  2013                0\n",
      "[[   0.96666667    1.09090909  334.            0.        ]]\n",
      "1793.35\n"
     ]
    }
   ],
   "source": [
    "import pandas as pd\n",
    "import numpy as np\n",
    "import csv\n",
    "from keras.models import Sequential\n",
    "from keras.layers import Dense\n",
    "from keras.models import Sequential, load_model\n",
    "from keras.layers import Dense, Dropout, BatchNormalization, Activation\n",
    "import keras.backend as K\n",
    "def mean_pred(y_true, y_pred):\n",
    "    return K.mean(y_pred - y_true)\n",
    "from keras import losses\n",
    "import keras\n",
    "import h5py\n",
    "from sklearn.preprocessing import MinMaxScaler\n",
    "\n",
    "guess = {\n",
    "    \"date\":[30],\n",
    "    \"month\":[13],\n",
    "    \"year\":[2013],\n",
    "    \"Centre_Name\":[\"SHILLONG\"]\n",
    "}\n",
    "\n",
    "predict_data = pd.DataFrame(guess) \n",
    "predict_data[\"Centre_Name\"] = predict_data[\"Centre_Name\"].astype('category')\n",
    "predict_data[\"Centre_Name_cat\"] = predict_data[\"Centre_Name\"].cat.codes\n",
    "print(predict_data)\n",
    "\n",
    "raw_data  = pd.read_csv(\"data.csv\").drop(\"Commodity_Name\",axis = 1)\n",
    "\n",
    "raw_data = raw_data[raw_data[\"Price\"]>0]\n",
    "raw_data[['date','month','year']] = raw_data['Date'].str.split(\"-\",expand=True)\n",
    "raw_data[\"date\"]= raw_data.apply(lambda row: int(row['date']),axis = 1)\n",
    "raw_data[\"month\"]= raw_data.apply(lambda row: int(row['month']),axis = 1)\n",
    "raw_data[\"year\"]= raw_data.apply(lambda row: int(row['year']),axis = 1)\n",
    "raw_data = raw_data.drop(\"Date\",axis =1)\n",
    "raw_data[\"Centre_Name\"] = raw_data[\"Centre_Name\"].astype('category')\n",
    "raw_data[\"Centre_Name_cat\"] = raw_data[\"Centre_Name\"].cat.codes\n",
    "\n",
    "DataScalerx = MinMaxScaler()\n",
    "DataScalery = MinMaxScaler()\n",
    "\n",
    "DataScalerx.fit(X=raw_data.drop([\"Centre_Name\",\"Price\"],axis=1),y=raw_data[\"Price\"])\n",
    "DataScalery.fit(X=raw_data[\"Price\"].values.reshape(-1, 1)) \n",
    "\n",
    "to_predict = DataScalerx.transform(predict_data.drop([\"Centre_Name\"],axis=1))\n",
    "print(to_predict)\n",
    "model=keras.models.load_model(\"hello.h5\")\n",
    "prediction = DataScalery.inverse_transform(model.predict(to_predict))\n",
    "print(prediction)"
   ]
  },
  {
   "cell_type": "code",
   "execution_count": null,
   "metadata": {},
   "outputs": [],
   "source": []
  },
  {
   "cell_type": "code",
   "execution_count": 17,
   "metadata": {},
   "outputs": [
    {
     "name": "stdout",
     "output_type": "stream",
     "text": [
      "        category   price    store  testscore\n",
      "0       Cleaning   11.42  Walmart          4\n",
      "1       Cleaning   23.50      Dia          3\n",
      "2  Entertainment   19.99  Walmart          5\n",
      "3  Entertainment   15.95     Fnac          7\n",
      "4           Tech   55.75      Dia          5\n",
      "5           Tech  111.55  Walmart          8\n"
     ]
    }
   ],
   "source": [
    "import pandas as pd\n",
    "\n",
    "products = pd.DataFrame({'category': ['Cleaning', 'Cleaning', 'Entertainment', 'Entertainment', 'Tech', 'Tech'],\n",
    "                        'store': ['Walmart', 'Dia', 'Walmart', 'Fnac', 'Dia','Walmart'],\n",
    "                        'price':[11.42, 23.50, 19.99, 15.95, 55.75, 111.55],\n",
    "                        'testscore': [4, 3, 5, 7, 5, 8]})\n",
    "\n",
    "# Use `pivot()` to pivot the DataFrame\n",
    "# pivot_products = products._____(index='category', columns='store', values='price')\n",
    "\n",
    "# Check out the result\n",
    "print(products)"
   ]
  },
  {
   "cell_type": "code",
   "execution_count": null,
   "metadata": {
    "collapsed": true
   },
   "outputs": [],
   "source": []
  }
 ],
 "metadata": {
  "kernelspec": {
   "display_name": "Python 2",
   "language": "python",
   "name": "python2"
  },
  "language_info": {
   "codemirror_mode": {
    "name": "ipython",
    "version": 2
   },
   "file_extension": ".py",
   "mimetype": "text/x-python",
   "name": "python",
   "nbconvert_exporter": "python",
   "pygments_lexer": "ipython2",
   "version": "2.7.13"
  }
 },
 "nbformat": 4,
 "nbformat_minor": 2
}
